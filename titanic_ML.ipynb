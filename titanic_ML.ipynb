{
  "cells": [
    {
      "cell_type": "code",
      "execution_count": 1,
      "metadata": {
        "id": "78zDyjp6Fw_t"
      },
      "outputs": [],
      "source": [
        "import pandas as pd \n",
        "import numpy as np \n",
        "import matplotlib.pyplot as plt\n",
        "import seaborn as sns\n",
        "import warnings\n",
        "warnings.filterwarnings('ignore')"
      ]
    },
    {
      "cell_type": "code",
      "execution_count": 2,
      "metadata": {
        "colab": {
          "base_uri": "https://localhost:8080/",
          "height": 206
        },
        "id": "Ywt4zu4UF-p0",
        "outputId": "4be60006-dc68-4a3e-86b6-67928c1d1769"
      },
      "outputs": [
        {
          "data": {
            "text/html": [
              "<div>\n",
              "<style scoped>\n",
              "    .dataframe tbody tr th:only-of-type {\n",
              "        vertical-align: middle;\n",
              "    }\n",
              "\n",
              "    .dataframe tbody tr th {\n",
              "        vertical-align: top;\n",
              "    }\n",
              "\n",
              "    .dataframe thead th {\n",
              "        text-align: right;\n",
              "    }\n",
              "</style>\n",
              "<table border=\"1\" class=\"dataframe\">\n",
              "  <thead>\n",
              "    <tr style=\"text-align: right;\">\n",
              "      <th></th>\n",
              "      <th>PassengerId</th>\n",
              "      <th>Survived</th>\n",
              "      <th>Pclass</th>\n",
              "      <th>Name</th>\n",
              "      <th>Sex</th>\n",
              "      <th>Age</th>\n",
              "      <th>SibSp</th>\n",
              "      <th>Parch</th>\n",
              "      <th>Ticket</th>\n",
              "      <th>Fare</th>\n",
              "      <th>Cabin</th>\n",
              "      <th>Embarked</th>\n",
              "    </tr>\n",
              "  </thead>\n",
              "  <tbody>\n",
              "    <tr>\n",
              "      <th>0</th>\n",
              "      <td>1</td>\n",
              "      <td>0</td>\n",
              "      <td>3</td>\n",
              "      <td>Braund, Mr. Owen Harris</td>\n",
              "      <td>male</td>\n",
              "      <td>22.0</td>\n",
              "      <td>1</td>\n",
              "      <td>0</td>\n",
              "      <td>A/5 21171</td>\n",
              "      <td>7.2500</td>\n",
              "      <td>NaN</td>\n",
              "      <td>S</td>\n",
              "    </tr>\n",
              "    <tr>\n",
              "      <th>1</th>\n",
              "      <td>2</td>\n",
              "      <td>1</td>\n",
              "      <td>1</td>\n",
              "      <td>Cumings, Mrs. John Bradley (Florence Briggs Th...</td>\n",
              "      <td>female</td>\n",
              "      <td>38.0</td>\n",
              "      <td>1</td>\n",
              "      <td>0</td>\n",
              "      <td>PC 17599</td>\n",
              "      <td>71.2833</td>\n",
              "      <td>C85</td>\n",
              "      <td>C</td>\n",
              "    </tr>\n",
              "    <tr>\n",
              "      <th>2</th>\n",
              "      <td>3</td>\n",
              "      <td>1</td>\n",
              "      <td>3</td>\n",
              "      <td>Heikkinen, Miss. Laina</td>\n",
              "      <td>female</td>\n",
              "      <td>26.0</td>\n",
              "      <td>0</td>\n",
              "      <td>0</td>\n",
              "      <td>STON/O2. 3101282</td>\n",
              "      <td>7.9250</td>\n",
              "      <td>NaN</td>\n",
              "      <td>S</td>\n",
              "    </tr>\n",
              "    <tr>\n",
              "      <th>3</th>\n",
              "      <td>4</td>\n",
              "      <td>1</td>\n",
              "      <td>1</td>\n",
              "      <td>Futrelle, Mrs. Jacques Heath (Lily May Peel)</td>\n",
              "      <td>female</td>\n",
              "      <td>35.0</td>\n",
              "      <td>1</td>\n",
              "      <td>0</td>\n",
              "      <td>113803</td>\n",
              "      <td>53.1000</td>\n",
              "      <td>C123</td>\n",
              "      <td>S</td>\n",
              "    </tr>\n",
              "    <tr>\n",
              "      <th>4</th>\n",
              "      <td>5</td>\n",
              "      <td>0</td>\n",
              "      <td>3</td>\n",
              "      <td>Allen, Mr. William Henry</td>\n",
              "      <td>male</td>\n",
              "      <td>35.0</td>\n",
              "      <td>0</td>\n",
              "      <td>0</td>\n",
              "      <td>373450</td>\n",
              "      <td>8.0500</td>\n",
              "      <td>NaN</td>\n",
              "      <td>S</td>\n",
              "    </tr>\n",
              "  </tbody>\n",
              "</table>\n",
              "</div>"
            ],
            "text/plain": [
              "   PassengerId  Survived  Pclass  \\\n",
              "0            1         0       3   \n",
              "1            2         1       1   \n",
              "2            3         1       3   \n",
              "3            4         1       1   \n",
              "4            5         0       3   \n",
              "\n",
              "                                                Name     Sex   Age  SibSp  \\\n",
              "0                            Braund, Mr. Owen Harris    male  22.0      1   \n",
              "1  Cumings, Mrs. John Bradley (Florence Briggs Th...  female  38.0      1   \n",
              "2                             Heikkinen, Miss. Laina  female  26.0      0   \n",
              "3       Futrelle, Mrs. Jacques Heath (Lily May Peel)  female  35.0      1   \n",
              "4                           Allen, Mr. William Henry    male  35.0      0   \n",
              "\n",
              "   Parch            Ticket     Fare Cabin Embarked  \n",
              "0      0         A/5 21171   7.2500   NaN        S  \n",
              "1      0          PC 17599  71.2833   C85        C  \n",
              "2      0  STON/O2. 3101282   7.9250   NaN        S  \n",
              "3      0            113803  53.1000  C123        S  \n",
              "4      0            373450   8.0500   NaN        S  "
            ]
          },
          "execution_count": 2,
          "metadata": {},
          "output_type": "execute_result"
        }
      ],
      "source": [
        "df_train = pd.read_csv('train.csv')\n",
        "df_train.head()"
      ]
    },
    {
      "cell_type": "code",
      "execution_count": 3,
      "metadata": {
        "colab": {
          "base_uri": "https://localhost:8080/"
        },
        "id": "Vp2gbgDkGrcc",
        "outputId": "f63d6a13-5b2a-4aa9-d936-cc4ac37f5f25"
      },
      "outputs": [
        {
          "data": {
            "text/plain": [
              "(891, 12)"
            ]
          },
          "execution_count": 3,
          "metadata": {},
          "output_type": "execute_result"
        }
      ],
      "source": [
        "df_train.shape"
      ]
    },
    {
      "cell_type": "code",
      "execution_count": 4,
      "metadata": {
        "colab": {
          "base_uri": "https://localhost:8080/",
          "height": 300
        },
        "id": "YjHF4TDlG0RO",
        "outputId": "6af77a96-b121-4733-8616-d049125d799d"
      },
      "outputs": [
        {
          "data": {
            "text/html": [
              "<div>\n",
              "<style scoped>\n",
              "    .dataframe tbody tr th:only-of-type {\n",
              "        vertical-align: middle;\n",
              "    }\n",
              "\n",
              "    .dataframe tbody tr th {\n",
              "        vertical-align: top;\n",
              "    }\n",
              "\n",
              "    .dataframe thead th {\n",
              "        text-align: right;\n",
              "    }\n",
              "</style>\n",
              "<table border=\"1\" class=\"dataframe\">\n",
              "  <thead>\n",
              "    <tr style=\"text-align: right;\">\n",
              "      <th></th>\n",
              "      <th>PassengerId</th>\n",
              "      <th>Survived</th>\n",
              "      <th>Pclass</th>\n",
              "      <th>Age</th>\n",
              "      <th>SibSp</th>\n",
              "      <th>Parch</th>\n",
              "      <th>Fare</th>\n",
              "    </tr>\n",
              "  </thead>\n",
              "  <tbody>\n",
              "    <tr>\n",
              "      <th>count</th>\n",
              "      <td>891.000000</td>\n",
              "      <td>891.000000</td>\n",
              "      <td>891.000000</td>\n",
              "      <td>714.000000</td>\n",
              "      <td>891.000000</td>\n",
              "      <td>891.000000</td>\n",
              "      <td>891.000000</td>\n",
              "    </tr>\n",
              "    <tr>\n",
              "      <th>mean</th>\n",
              "      <td>446.000000</td>\n",
              "      <td>0.383838</td>\n",
              "      <td>2.308642</td>\n",
              "      <td>29.699118</td>\n",
              "      <td>0.523008</td>\n",
              "      <td>0.381594</td>\n",
              "      <td>32.204208</td>\n",
              "    </tr>\n",
              "    <tr>\n",
              "      <th>std</th>\n",
              "      <td>257.353842</td>\n",
              "      <td>0.486592</td>\n",
              "      <td>0.836071</td>\n",
              "      <td>14.526497</td>\n",
              "      <td>1.102743</td>\n",
              "      <td>0.806057</td>\n",
              "      <td>49.693429</td>\n",
              "    </tr>\n",
              "    <tr>\n",
              "      <th>min</th>\n",
              "      <td>1.000000</td>\n",
              "      <td>0.000000</td>\n",
              "      <td>1.000000</td>\n",
              "      <td>0.420000</td>\n",
              "      <td>0.000000</td>\n",
              "      <td>0.000000</td>\n",
              "      <td>0.000000</td>\n",
              "    </tr>\n",
              "    <tr>\n",
              "      <th>25%</th>\n",
              "      <td>223.500000</td>\n",
              "      <td>0.000000</td>\n",
              "      <td>2.000000</td>\n",
              "      <td>20.125000</td>\n",
              "      <td>0.000000</td>\n",
              "      <td>0.000000</td>\n",
              "      <td>7.910400</td>\n",
              "    </tr>\n",
              "    <tr>\n",
              "      <th>50%</th>\n",
              "      <td>446.000000</td>\n",
              "      <td>0.000000</td>\n",
              "      <td>3.000000</td>\n",
              "      <td>28.000000</td>\n",
              "      <td>0.000000</td>\n",
              "      <td>0.000000</td>\n",
              "      <td>14.454200</td>\n",
              "    </tr>\n",
              "    <tr>\n",
              "      <th>75%</th>\n",
              "      <td>668.500000</td>\n",
              "      <td>1.000000</td>\n",
              "      <td>3.000000</td>\n",
              "      <td>38.000000</td>\n",
              "      <td>1.000000</td>\n",
              "      <td>0.000000</td>\n",
              "      <td>31.000000</td>\n",
              "    </tr>\n",
              "    <tr>\n",
              "      <th>max</th>\n",
              "      <td>891.000000</td>\n",
              "      <td>1.000000</td>\n",
              "      <td>3.000000</td>\n",
              "      <td>80.000000</td>\n",
              "      <td>8.000000</td>\n",
              "      <td>6.000000</td>\n",
              "      <td>512.329200</td>\n",
              "    </tr>\n",
              "  </tbody>\n",
              "</table>\n",
              "</div>"
            ],
            "text/plain": [
              "       PassengerId    Survived      Pclass         Age       SibSp  \\\n",
              "count   891.000000  891.000000  891.000000  714.000000  891.000000   \n",
              "mean    446.000000    0.383838    2.308642   29.699118    0.523008   \n",
              "std     257.353842    0.486592    0.836071   14.526497    1.102743   \n",
              "min       1.000000    0.000000    1.000000    0.420000    0.000000   \n",
              "25%     223.500000    0.000000    2.000000   20.125000    0.000000   \n",
              "50%     446.000000    0.000000    3.000000   28.000000    0.000000   \n",
              "75%     668.500000    1.000000    3.000000   38.000000    1.000000   \n",
              "max     891.000000    1.000000    3.000000   80.000000    8.000000   \n",
              "\n",
              "            Parch        Fare  \n",
              "count  891.000000  891.000000  \n",
              "mean     0.381594   32.204208  \n",
              "std      0.806057   49.693429  \n",
              "min      0.000000    0.000000  \n",
              "25%      0.000000    7.910400  \n",
              "50%      0.000000   14.454200  \n",
              "75%      0.000000   31.000000  \n",
              "max      6.000000  512.329200  "
            ]
          },
          "execution_count": 4,
          "metadata": {},
          "output_type": "execute_result"
        }
      ],
      "source": [
        "df_train.describe()"
      ]
    },
    {
      "cell_type": "code",
      "execution_count": 5,
      "metadata": {
        "colab": {
          "base_uri": "https://localhost:8080/"
        },
        "id": "h2VJFtokI0bm",
        "outputId": "2922c3f8-7218-4190-e240-2afc0fd36da5"
      },
      "outputs": [
        {
          "name": "stdout",
          "output_type": "stream",
          "text": [
            "<class 'pandas.core.frame.DataFrame'>\n",
            "RangeIndex: 891 entries, 0 to 890\n",
            "Data columns (total 12 columns):\n",
            " #   Column       Non-Null Count  Dtype  \n",
            "---  ------       --------------  -----  \n",
            " 0   PassengerId  891 non-null    int64  \n",
            " 1   Survived     891 non-null    int64  \n",
            " 2   Pclass       891 non-null    int64  \n",
            " 3   Name         891 non-null    object \n",
            " 4   Sex          891 non-null    object \n",
            " 5   Age          714 non-null    float64\n",
            " 6   SibSp        891 non-null    int64  \n",
            " 7   Parch        891 non-null    int64  \n",
            " 8   Ticket       891 non-null    object \n",
            " 9   Fare         891 non-null    float64\n",
            " 10  Cabin        204 non-null    object \n",
            " 11  Embarked     889 non-null    object \n",
            "dtypes: float64(2), int64(5), object(5)\n",
            "memory usage: 83.7+ KB\n"
          ]
        }
      ],
      "source": [
        "df_train.info()"
      ]
    },
    {
      "cell_type": "code",
      "execution_count": 6,
      "metadata": {
        "colab": {
          "base_uri": "https://localhost:8080/",
          "height": 466
        },
        "id": "D3CDOE4gmuJu",
        "outputId": "531826b5-c102-41a9-d284-d3847b4a279b"
      },
      "outputs": [
        {
          "data": {
            "text/plain": [
              "<AxesSubplot: xlabel='Survived', ylabel='count'>"
            ]
          },
          "execution_count": 6,
          "metadata": {},
          "output_type": "execute_result"
        },
        {
          "data": {
            "image/png": "[encoded data removed]",
            "text/plain": [
              "<Figure size 640x480 with 1 Axes>"
            ]
          },
          "metadata": {},
          "output_type": "display_data"
        }
      ],
      "source": [
        "sns.countplot(x = 'Survived', data = df_train, hue = 'Pclass')"
      ]
    },
    {
      "cell_type": "code",
      "execution_count": 7,
      "metadata": {
        "colab": {
          "base_uri": "https://localhost:8080/",
          "height": 657
        },
        "id": "dG63AUAal5hn",
        "outputId": "9970547a-af8c-4eaa-c9f5-e61060d7d452"
      },
      "outputs": [
        {
          "data": {
            "text/plain": [
              "<AxesSubplot: xlabel='Age', ylabel='Count'>"
            ]
          },
          "execution_count": 7,
          "metadata": {},
          "output_type": "execute_result"
        },
        {
          "data": {
            "image/png": "[encoded data removed]",
            "text/plain": [
              "<Figure size 640x480 with 1 Axes>"
            ]
          },
          "metadata": {},
          "output_type": "display_data"
        }
      ],
      "source": [
        "sns.histplot(df_train['Age'], kde= False)"
      ]
    },
    {
      "cell_type": "code",
      "execution_count": 8,
      "metadata": {
        "colab": {
          "base_uri": "https://localhost:8080/"
        },
        "id": "u9yDUlAXngRe",
        "outputId": "abc1dfe0-5c8c-40ee-ebb9-71aa90fa27de"
      },
      "outputs": [
        {
          "data": {
            "text/plain": [
              "PassengerId      0\n",
              "Survived         0\n",
              "Pclass           0\n",
              "Name             0\n",
              "Sex              0\n",
              "Age            177\n",
              "SibSp            0\n",
              "Parch            0\n",
              "Ticket           0\n",
              "Fare             0\n",
              "Cabin          687\n",
              "Embarked         2\n",
              "dtype: int64"
            ]
          },
          "execution_count": 8,
          "metadata": {},
          "output_type": "execute_result"
        }
      ],
      "source": [
        "df_train.isna().sum()"
      ]
    },
    {
      "cell_type": "code",
      "execution_count": 9,
      "metadata": {
        "colab": {
          "base_uri": "https://localhost:8080/",
          "height": 466
        },
        "id": "3C9WMQUln09P",
        "outputId": "68441494-6bdb-48b9-ab4a-b19f47c59422"
      },
      "outputs": [
        {
          "data": {
            "text/plain": [
              "<AxesSubplot: xlabel='Pclass', ylabel='Age'>"
            ]
          },
          "execution_count": 9,
          "metadata": {},
          "output_type": "execute_result"
        },
        {
          "data": {
            "image/png": "[encoded data removed]",
            "text/plain": [
              "<Figure size 640x480 with 1 Axes>"
            ]
          },
          "metadata": {},
          "output_type": "display_data"
        }
      ],
      "source": [
        "sns.boxplot(x ='Pclass', y= 'Age', data = df_train)"
      ]
    },
    {
      "cell_type": "markdown",
      "metadata": {
        "id": "FNEUQFkxoUxj"
      },
      "source": [
        "So older people have more wealth and thus they are in first class. "
      ]
    },
    {
      "cell_type": "markdown",
      "metadata": {
        "id": "fFv3QumXo1U-"
      },
      "source": [
        "## So we have missing values in age column. We should fill in these values with the average age of the entire dataset."
      ]
    },
    {
      "cell_type": "code",
      "execution_count": 10,
      "metadata": {
        "colab": {
          "base_uri": "https://localhost:8080/"
        },
        "id": "yIF3WFVkoJhA",
        "outputId": "c6f231b9-52f4-47e3-ea01-8bc610d34b0e"
      },
      "outputs": [
        {
          "name": "stdout",
          "output_type": "stream",
          "text": [
            "38.233440860215055\n",
            "29.87763005780347\n",
            "25.14061971830986\n"
          ]
        }
      ],
      "source": [
        "print(df_train[df_train['Pclass'] == 1]['Age'].mean())\n",
        "print(df_train[df_train['Pclass'] == 2]['Age'].mean())\n",
        "print(df_train[df_train['Pclass'] == 3]['Age'].mean())"
      ]
    },
    {
      "cell_type": "code",
      "execution_count": 11,
      "metadata": {
        "id": "JiYdpOM-pf1d"
      },
      "outputs": [],
      "source": [
        "def fill_the_na_values(cols):\n",
        "  age= cols[0]\n",
        "  pclass = cols[1]\n",
        "\n",
        "  if pd.isna(age):\n",
        "    if pclass == 1:\n",
        "      return round(df_train[df_train['Pclass'] == 1]['Age'].mean())\n",
        "    if pclass == 2:\n",
        "      return round(df_train[df_train['Pclass'] == 2]['Age'].mean())\n",
        "    if pclass == 3:\n",
        "      return round(df_train[df_train['Pclass'] == 3]['Age'].mean())\n",
        "  else: \n",
        "    return age\n",
        "\n",
        "df_train['Age'] = df_train[['Age','Pclass']].apply(fill_the_na_values, axis=1)"
      ]
    },
    {
      "cell_type": "code",
      "execution_count": 12,
      "metadata": {
        "colab": {
          "base_uri": "https://localhost:8080/"
        },
        "id": "clMKdKQavTJi",
        "outputId": "b32aa80b-11d0-430d-ce29-f7dba4926da7"
      },
      "outputs": [
        {
          "data": {
            "text/plain": [
              "PassengerId      0\n",
              "Survived         0\n",
              "Pclass           0\n",
              "Name             0\n",
              "Sex              0\n",
              "Age              0\n",
              "SibSp            0\n",
              "Parch            0\n",
              "Ticket           0\n",
              "Fare             0\n",
              "Cabin          687\n",
              "Embarked         2\n",
              "dtype: int64"
            ]
          },
          "execution_count": 12,
          "metadata": {},
          "output_type": "execute_result"
        }
      ],
      "source": [
        "df_train.isna().sum()"
      ]
    },
    {
      "cell_type": "code",
      "execution_count": 13,
      "metadata": {
        "colab": {
          "base_uri": "https://localhost:8080/",
          "height": 523
        },
        "id": "UAQj3jNIvWje",
        "outputId": "dede64c1-46ea-44d1-d7a7-92b3782a460e"
      },
      "outputs": [
        {
          "data": {
            "text/plain": [
              "<AxesSubplot: >"
            ]
          },
          "execution_count": 13,
          "metadata": {},
          "output_type": "execute_result"
        },
        {
          "data": {
            "image/png": "[encoded data removed]",
            "text/plain": [
              "<Figure size 640x480 with 2 Axes>"
            ]
          },
          "metadata": {},
          "output_type": "display_data"
        }
      ],
      "source": [
        "sns.heatmap(df_train.isna())"
      ]
    },
    {
      "cell_type": "code",
      "execution_count": 14,
      "metadata": {
        "id": "KZVC8TZ3vkBD"
      },
      "outputs": [],
      "source": [
        "df_train.drop(['Cabin'],axis=1, inplace=True)"
      ]
    },
    {
      "cell_type": "code",
      "execution_count": 15,
      "metadata": {
        "colab": {
          "base_uri": "https://localhost:8080/",
          "height": 206
        },
        "id": "blnUmgXawXX7",
        "outputId": "106fef77-9537-4034-b0e0-2f1ff18a9248"
      },
      "outputs": [
        {
          "data": {
            "text/html": [
              "<div>\n",
              "<style scoped>\n",
              "    .dataframe tbody tr th:only-of-type {\n",
              "        vertical-align: middle;\n",
              "    }\n",
              "\n",
              "    .dataframe tbody tr th {\n",
              "        vertical-align: top;\n",
              "    }\n",
              "\n",
              "    .dataframe thead th {\n",
              "        text-align: right;\n",
              "    }\n",
              "</style>\n",
              "<table border=\"1\" class=\"dataframe\">\n",
              "  <thead>\n",
              "    <tr style=\"text-align: right;\">\n",
              "      <th></th>\n",
              "      <th>PassengerId</th>\n",
              "      <th>Survived</th>\n",
              "      <th>Pclass</th>\n",
              "      <th>Name</th>\n",
              "      <th>Sex</th>\n",
              "      <th>Age</th>\n",
              "      <th>SibSp</th>\n",
              "      <th>Parch</th>\n",
              "      <th>Ticket</th>\n",
              "      <th>Fare</th>\n",
              "      <th>Embarked</th>\n",
              "    </tr>\n",
              "  </thead>\n",
              "  <tbody>\n",
              "    <tr>\n",
              "      <th>0</th>\n",
              "      <td>1</td>\n",
              "      <td>0</td>\n",
              "      <td>3</td>\n",
              "      <td>Braund, Mr. Owen Harris</td>\n",
              "      <td>male</td>\n",
              "      <td>22.0</td>\n",
              "      <td>1</td>\n",
              "      <td>0</td>\n",
              "      <td>A/5 21171</td>\n",
              "      <td>7.2500</td>\n",
              "      <td>S</td>\n",
              "    </tr>\n",
              "    <tr>\n",
              "      <th>1</th>\n",
              "      <td>2</td>\n",
              "      <td>1</td>\n",
              "      <td>1</td>\n",
              "      <td>Cumings, Mrs. John Bradley (Florence Briggs Th...</td>\n",
              "      <td>female</td>\n",
              "      <td>38.0</td>\n",
              "      <td>1</td>\n",
              "      <td>0</td>\n",
              "      <td>PC 17599</td>\n",
              "      <td>71.2833</td>\n",
              "      <td>C</td>\n",
              "    </tr>\n",
              "    <tr>\n",
              "      <th>2</th>\n",
              "      <td>3</td>\n",
              "      <td>1</td>\n",
              "      <td>3</td>\n",
              "      <td>Heikkinen, Miss. Laina</td>\n",
              "      <td>female</td>\n",
              "      <td>26.0</td>\n",
              "      <td>0</td>\n",
              "      <td>0</td>\n",
              "      <td>STON/O2. 3101282</td>\n",
              "      <td>7.9250</td>\n",
              "      <td>S</td>\n",
              "    </tr>\n",
              "    <tr>\n",
              "      <th>3</th>\n",
              "      <td>4</td>\n",
              "      <td>1</td>\n",
              "      <td>1</td>\n",
              "      <td>Futrelle, Mrs. Jacques Heath (Lily May Peel)</td>\n",
              "      <td>female</td>\n",
              "      <td>35.0</td>\n",
              "      <td>1</td>\n",
              "      <td>0</td>\n",
              "      <td>113803</td>\n",
              "      <td>53.1000</td>\n",
              "      <td>S</td>\n",
              "    </tr>\n",
              "    <tr>\n",
              "      <th>4</th>\n",
              "      <td>5</td>\n",
              "      <td>0</td>\n",
              "      <td>3</td>\n",
              "      <td>Allen, Mr. William Henry</td>\n",
              "      <td>male</td>\n",
              "      <td>35.0</td>\n",
              "      <td>0</td>\n",
              "      <td>0</td>\n",
              "      <td>373450</td>\n",
              "      <td>8.0500</td>\n",
              "      <td>S</td>\n",
              "    </tr>\n",
              "  </tbody>\n",
              "</table>\n",
              "</div>"
            ],
            "text/plain": [
              "   PassengerId  Survived  Pclass  \\\n",
              "0            1         0       3   \n",
              "1            2         1       1   \n",
              "2            3         1       3   \n",
              "3            4         1       1   \n",
              "4            5         0       3   \n",
              "\n",
              "                                                Name     Sex   Age  SibSp  \\\n",
              "0                            Braund, Mr. Owen Harris    male  22.0      1   \n",
              "1  Cumings, Mrs. John Bradley (Florence Briggs Th...  female  38.0      1   \n",
              "2                             Heikkinen, Miss. Laina  female  26.0      0   \n",
              "3       Futrelle, Mrs. Jacques Heath (Lily May Peel)  female  35.0      1   \n",
              "4                           Allen, Mr. William Henry    male  35.0      0   \n",
              "\n",
              "   Parch            Ticket     Fare Embarked  \n",
              "0      0         A/5 21171   7.2500        S  \n",
              "1      0          PC 17599  71.2833        C  \n",
              "2      0  STON/O2. 3101282   7.9250        S  \n",
              "3      0            113803  53.1000        S  \n",
              "4      0            373450   8.0500        S  "
            ]
          },
          "execution_count": 15,
          "metadata": {},
          "output_type": "execute_result"
        }
      ],
      "source": [
        "df_train.head()"
      ]
    },
    {
      "cell_type": "code",
      "execution_count": 16,
      "metadata": {
        "id": "d03KLuUiwZhR"
      },
      "outputs": [],
      "source": [
        "df_train.dropna(inplace= True)"
      ]
    },
    {
      "cell_type": "code",
      "execution_count": 17,
      "metadata": {
        "colab": {
          "base_uri": "https://localhost:8080/"
        },
        "id": "6rsWPbSdwj-p",
        "outputId": "ae2dc937-009a-4774-db72-667b89b0aeea"
      },
      "outputs": [
        {
          "data": {
            "text/plain": [
              "PassengerId    0\n",
              "Survived       0\n",
              "Pclass         0\n",
              "Name           0\n",
              "Sex            0\n",
              "Age            0\n",
              "SibSp          0\n",
              "Parch          0\n",
              "Ticket         0\n",
              "Fare           0\n",
              "Embarked       0\n",
              "dtype: int64"
            ]
          },
          "execution_count": 17,
          "metadata": {},
          "output_type": "execute_result"
        }
      ],
      "source": [
        "df_train.isna().sum()"
      ]
    },
    {
      "cell_type": "code",
      "execution_count": 18,
      "metadata": {
        "id": "xj60FBTIwofZ"
      },
      "outputs": [],
      "source": [
        "df_train.drop(['PassengerId','Name','Ticket'], axis= 1, inplace = True)"
      ]
    },
    {
      "cell_type": "code",
      "execution_count": 19,
      "metadata": {
        "colab": {
          "base_uri": "https://localhost:8080/",
          "height": 206
        },
        "id": "rjc0mhhDw_EF",
        "outputId": "694d9c56-420c-44a7-995a-ae865035ea44"
      },
      "outputs": [
        {
          "data": {
            "text/html": [
              "<div>\n",
              "<style scoped>\n",
              "    .dataframe tbody tr th:only-of-type {\n",
              "        vertical-align: middle;\n",
              "    }\n",
              "\n",
              "    .dataframe tbody tr th {\n",
              "        vertical-align: top;\n",
              "    }\n",
              "\n",
              "    .dataframe thead th {\n",
              "        text-align: right;\n",
              "    }\n",
              "</style>\n",
              "<table border=\"1\" class=\"dataframe\">\n",
              "  <thead>\n",
              "    <tr style=\"text-align: right;\">\n",
              "      <th></th>\n",
              "      <th>Survived</th>\n",
              "      <th>Pclass</th>\n",
              "      <th>Sex</th>\n",
              "      <th>Age</th>\n",
              "      <th>SibSp</th>\n",
              "      <th>Parch</th>\n",
              "      <th>Fare</th>\n",
              "      <th>Embarked</th>\n",
              "    </tr>\n",
              "  </thead>\n",
              "  <tbody>\n",
              "    <tr>\n",
              "      <th>0</th>\n",
              "      <td>0</td>\n",
              "      <td>3</td>\n",
              "      <td>male</td>\n",
              "      <td>22.0</td>\n",
              "      <td>1</td>\n",
              "      <td>0</td>\n",
              "      <td>7.2500</td>\n",
              "      <td>S</td>\n",
              "    </tr>\n",
              "    <tr>\n",
              "      <th>1</th>\n",
              "      <td>1</td>\n",
              "      <td>1</td>\n",
              "      <td>female</td>\n",
              "      <td>38.0</td>\n",
              "      <td>1</td>\n",
              "      <td>0</td>\n",
              "      <td>71.2833</td>\n",
              "      <td>C</td>\n",
              "    </tr>\n",
              "    <tr>\n",
              "      <th>2</th>\n",
              "      <td>1</td>\n",
              "      <td>3</td>\n",
              "      <td>female</td>\n",
              "      <td>26.0</td>\n",
              "      <td>0</td>\n",
              "      <td>0</td>\n",
              "      <td>7.9250</td>\n",
              "      <td>S</td>\n",
              "    </tr>\n",
              "    <tr>\n",
              "      <th>3</th>\n",
              "      <td>1</td>\n",
              "      <td>1</td>\n",
              "      <td>female</td>\n",
              "      <td>35.0</td>\n",
              "      <td>1</td>\n",
              "      <td>0</td>\n",
              "      <td>53.1000</td>\n",
              "      <td>S</td>\n",
              "    </tr>\n",
              "    <tr>\n",
              "      <th>4</th>\n",
              "      <td>0</td>\n",
              "      <td>3</td>\n",
              "      <td>male</td>\n",
              "      <td>35.0</td>\n",
              "      <td>0</td>\n",
              "      <td>0</td>\n",
              "      <td>8.0500</td>\n",
              "      <td>S</td>\n",
              "    </tr>\n",
              "  </tbody>\n",
              "</table>\n",
              "</div>"
            ],
            "text/plain": [
              "   Survived  Pclass     Sex   Age  SibSp  Parch     Fare Embarked\n",
              "0         0       3    male  22.0      1      0   7.2500        S\n",
              "1         1       1  female  38.0      1      0  71.2833        C\n",
              "2         1       3  female  26.0      0      0   7.9250        S\n",
              "3         1       1  female  35.0      1      0  53.1000        S\n",
              "4         0       3    male  35.0      0      0   8.0500        S"
            ]
          },
          "execution_count": 19,
          "metadata": {},
          "output_type": "execute_result"
        }
      ],
      "source": [
        "df_train.head()"
      ]
    },
    {
      "cell_type": "code",
      "execution_count": 20,
      "metadata": {
        "colab": {
          "base_uri": "https://localhost:8080/"
        },
        "id": "p1VJG-8sxELv",
        "outputId": "27df1819-bef7-407a-8623-f1e116834832"
      },
      "outputs": [
        {
          "data": {
            "text/plain": [
              "array(['male', 'female'], dtype=object)"
            ]
          },
          "execution_count": 20,
          "metadata": {},
          "output_type": "execute_result"
        }
      ],
      "source": [
        "df_train.Sex.unique()"
      ]
    },
    {
      "cell_type": "code",
      "execution_count": 21,
      "metadata": {
        "colab": {
          "base_uri": "https://localhost:8080/"
        },
        "id": "GOe7V9oQxNFQ",
        "outputId": "d0775d36-b2c5-44d1-9057-1e554bcb50dc"
      },
      "outputs": [
        {
          "data": {
            "text/plain": [
              "array(['S', 'C', 'Q'], dtype=object)"
            ]
          },
          "execution_count": 21,
          "metadata": {},
          "output_type": "execute_result"
        }
      ],
      "source": [
        "df_train.Embarked.unique()"
      ]
    },
    {
      "cell_type": "code",
      "execution_count": 22,
      "metadata": {
        "id": "QM4wgwFcxRCZ"
      },
      "outputs": [],
      "source": [
        "df_train['Sex'] = df_train['Sex'].replace({'male': 0, 'female': 1})"
      ]
    },
    {
      "cell_type": "code",
      "execution_count": 23,
      "metadata": {
        "colab": {
          "base_uri": "https://localhost:8080/",
          "height": 206
        },
        "id": "uIyR23xlxrQD",
        "outputId": "a978d825-9e99-4456-de56-9946a2b1a069"
      },
      "outputs": [
        {
          "data": {
            "text/html": [
              "<div>\n",
              "<style scoped>\n",
              "    .dataframe tbody tr th:only-of-type {\n",
              "        vertical-align: middle;\n",
              "    }\n",
              "\n",
              "    .dataframe tbody tr th {\n",
              "        vertical-align: top;\n",
              "    }\n",
              "\n",
              "    .dataframe thead th {\n",
              "        text-align: right;\n",
              "    }\n",
              "</style>\n",
              "<table border=\"1\" class=\"dataframe\">\n",
              "  <thead>\n",
              "    <tr style=\"text-align: right;\">\n",
              "      <th></th>\n",
              "      <th>Survived</th>\n",
              "      <th>Pclass</th>\n",
              "      <th>Sex</th>\n",
              "      <th>Age</th>\n",
              "      <th>SibSp</th>\n",
              "      <th>Parch</th>\n",
              "      <th>Fare</th>\n",
              "      <th>Embarked</th>\n",
              "    </tr>\n",
              "  </thead>\n",
              "  <tbody>\n",
              "    <tr>\n",
              "      <th>0</th>\n",
              "      <td>0</td>\n",
              "      <td>3</td>\n",
              "      <td>0</td>\n",
              "      <td>22.0</td>\n",
              "      <td>1</td>\n",
              "      <td>0</td>\n",
              "      <td>7.2500</td>\n",
              "      <td>S</td>\n",
              "    </tr>\n",
              "    <tr>\n",
              "      <th>1</th>\n",
              "      <td>1</td>\n",
              "      <td>1</td>\n",
              "      <td>1</td>\n",
              "      <td>38.0</td>\n",
              "      <td>1</td>\n",
              "      <td>0</td>\n",
              "      <td>71.2833</td>\n",
              "      <td>C</td>\n",
              "    </tr>\n",
              "    <tr>\n",
              "      <th>2</th>\n",
              "      <td>1</td>\n",
              "      <td>3</td>\n",
              "      <td>1</td>\n",
              "      <td>26.0</td>\n",
              "      <td>0</td>\n",
              "      <td>0</td>\n",
              "      <td>7.9250</td>\n",
              "      <td>S</td>\n",
              "    </tr>\n",
              "    <tr>\n",
              "      <th>3</th>\n",
              "      <td>1</td>\n",
              "      <td>1</td>\n",
              "      <td>1</td>\n",
              "      <td>35.0</td>\n",
              "      <td>1</td>\n",
              "      <td>0</td>\n",
              "      <td>53.1000</td>\n",
              "      <td>S</td>\n",
              "    </tr>\n",
              "    <tr>\n",
              "      <th>4</th>\n",
              "      <td>0</td>\n",
              "      <td>3</td>\n",
              "      <td>0</td>\n",
              "      <td>35.0</td>\n",
              "      <td>0</td>\n",
              "      <td>0</td>\n",
              "      <td>8.0500</td>\n",
              "      <td>S</td>\n",
              "    </tr>\n",
              "  </tbody>\n",
              "</table>\n",
              "</div>"
            ],
            "text/plain": [
              "   Survived  Pclass  Sex   Age  SibSp  Parch     Fare Embarked\n",
              "0         0       3    0  22.0      1      0   7.2500        S\n",
              "1         1       1    1  38.0      1      0  71.2833        C\n",
              "2         1       3    1  26.0      0      0   7.9250        S\n",
              "3         1       1    1  35.0      1      0  53.1000        S\n",
              "4         0       3    0  35.0      0      0   8.0500        S"
            ]
          },
          "execution_count": 23,
          "metadata": {},
          "output_type": "execute_result"
        }
      ],
      "source": [
        "df_train.head()"
      ]
    },
    {
      "cell_type": "code",
      "execution_count": 24,
      "metadata": {
        "colab": {
          "base_uri": "https://localhost:8080/",
          "height": 424
        },
        "id": "cxRqe_tdybri",
        "outputId": "7dab95c1-12a4-42a8-fdbb-def0e04e03df"
      },
      "outputs": [
        {
          "data": {
            "text/html": [
              "<div>\n",
              "<style scoped>\n",
              "    .dataframe tbody tr th:only-of-type {\n",
              "        vertical-align: middle;\n",
              "    }\n",
              "\n",
              "    .dataframe tbody tr th {\n",
              "        vertical-align: top;\n",
              "    }\n",
              "\n",
              "    .dataframe thead th {\n",
              "        text-align: right;\n",
              "    }\n",
              "</style>\n",
              "<table border=\"1\" class=\"dataframe\">\n",
              "  <thead>\n",
              "    <tr style=\"text-align: right;\">\n",
              "      <th></th>\n",
              "      <th>Embarked_C</th>\n",
              "      <th>Embarked_Q</th>\n",
              "      <th>Embarked_S</th>\n",
              "    </tr>\n",
              "  </thead>\n",
              "  <tbody>\n",
              "    <tr>\n",
              "      <th>0</th>\n",
              "      <td>0</td>\n",
              "      <td>0</td>\n",
              "      <td>1</td>\n",
              "    </tr>\n",
              "    <tr>\n",
              "      <th>1</th>\n",
              "      <td>1</td>\n",
              "      <td>0</td>\n",
              "      <td>0</td>\n",
              "    </tr>\n",
              "    <tr>\n",
              "      <th>2</th>\n",
              "      <td>0</td>\n",
              "      <td>0</td>\n",
              "      <td>1</td>\n",
              "    </tr>\n",
              "    <tr>\n",
              "      <th>3</th>\n",
              "      <td>0</td>\n",
              "      <td>0</td>\n",
              "      <td>1</td>\n",
              "    </tr>\n",
              "    <tr>\n",
              "      <th>4</th>\n",
              "      <td>0</td>\n",
              "      <td>0</td>\n",
              "      <td>1</td>\n",
              "    </tr>\n",
              "    <tr>\n",
              "      <th>...</th>\n",
              "      <td>...</td>\n",
              "      <td>...</td>\n",
              "      <td>...</td>\n",
              "    </tr>\n",
              "    <tr>\n",
              "      <th>886</th>\n",
              "      <td>0</td>\n",
              "      <td>0</td>\n",
              "      <td>1</td>\n",
              "    </tr>\n",
              "    <tr>\n",
              "      <th>887</th>\n",
              "      <td>0</td>\n",
              "      <td>0</td>\n",
              "      <td>1</td>\n",
              "    </tr>\n",
              "    <tr>\n",
              "      <th>888</th>\n",
              "      <td>0</td>\n",
              "      <td>0</td>\n",
              "      <td>1</td>\n",
              "    </tr>\n",
              "    <tr>\n",
              "      <th>889</th>\n",
              "      <td>1</td>\n",
              "      <td>0</td>\n",
              "      <td>0</td>\n",
              "    </tr>\n",
              "    <tr>\n",
              "      <th>890</th>\n",
              "      <td>0</td>\n",
              "      <td>1</td>\n",
              "      <td>0</td>\n",
              "    </tr>\n",
              "  </tbody>\n",
              "</table>\n",
              "<p>889 rows × 3 columns</p>\n",
              "</div>"
            ],
            "text/plain": [
              "     Embarked_C  Embarked_Q  Embarked_S\n",
              "0             0           0           1\n",
              "1             1           0           0\n",
              "2             0           0           1\n",
              "3             0           0           1\n",
              "4             0           0           1\n",
              "..          ...         ...         ...\n",
              "886           0           0           1\n",
              "887           0           0           1\n",
              "888           0           0           1\n",
              "889           1           0           0\n",
              "890           0           1           0\n",
              "\n",
              "[889 rows x 3 columns]"
            ]
          },
          "execution_count": 24,
          "metadata": {},
          "output_type": "execute_result"
        }
      ],
      "source": [
        "Embarked = pd.get_dummies(df_train.Embarked, prefix= 'Embarked')\n",
        "Embarked"
      ]
    },
    {
      "cell_type": "code",
      "execution_count": 25,
      "metadata": {
        "id": "3XO5WT79zcR1"
      },
      "outputs": [],
      "source": [
        "df_train = df_train.join(Embarked)  \n",
        "df_train.drop(['Embarked'],axis=1,inplace = True)"
      ]
    },
    {
      "cell_type": "code",
      "execution_count": 26,
      "metadata": {
        "colab": {
          "base_uri": "https://localhost:8080/",
          "height": 206
        },
        "id": "-JUuGmHNzgeZ",
        "outputId": "251d05f1-3216-4522-95ad-db84908a64e9"
      },
      "outputs": [
        {
          "data": {
            "text/html": [
              "<div>\n",
              "<style scoped>\n",
              "    .dataframe tbody tr th:only-of-type {\n",
              "        vertical-align: middle;\n",
              "    }\n",
              "\n",
              "    .dataframe tbody tr th {\n",
              "        vertical-align: top;\n",
              "    }\n",
              "\n",
              "    .dataframe thead th {\n",
              "        text-align: right;\n",
              "    }\n",
              "</style>\n",
              "<table border=\"1\" class=\"dataframe\">\n",
              "  <thead>\n",
              "    <tr style=\"text-align: right;\">\n",
              "      <th></th>\n",
              "      <th>Survived</th>\n",
              "      <th>Pclass</th>\n",
              "      <th>Sex</th>\n",
              "      <th>Age</th>\n",
              "      <th>SibSp</th>\n",
              "      <th>Parch</th>\n",
              "      <th>Fare</th>\n",
              "      <th>Embarked_C</th>\n",
              "      <th>Embarked_Q</th>\n",
              "      <th>Embarked_S</th>\n",
              "    </tr>\n",
              "  </thead>\n",
              "  <tbody>\n",
              "    <tr>\n",
              "      <th>0</th>\n",
              "      <td>0</td>\n",
              "      <td>3</td>\n",
              "      <td>0</td>\n",
              "      <td>22.0</td>\n",
              "      <td>1</td>\n",
              "      <td>0</td>\n",
              "      <td>7.2500</td>\n",
              "      <td>0</td>\n",
              "      <td>0</td>\n",
              "      <td>1</td>\n",
              "    </tr>\n",
              "    <tr>\n",
              "      <th>1</th>\n",
              "      <td>1</td>\n",
              "      <td>1</td>\n",
              "      <td>1</td>\n",
              "      <td>38.0</td>\n",
              "      <td>1</td>\n",
              "      <td>0</td>\n",
              "      <td>71.2833</td>\n",
              "      <td>1</td>\n",
              "      <td>0</td>\n",
              "      <td>0</td>\n",
              "    </tr>\n",
              "    <tr>\n",
              "      <th>2</th>\n",
              "      <td>1</td>\n",
              "      <td>3</td>\n",
              "      <td>1</td>\n",
              "      <td>26.0</td>\n",
              "      <td>0</td>\n",
              "      <td>0</td>\n",
              "      <td>7.9250</td>\n",
              "      <td>0</td>\n",
              "      <td>0</td>\n",
              "      <td>1</td>\n",
              "    </tr>\n",
              "    <tr>\n",
              "      <th>3</th>\n",
              "      <td>1</td>\n",
              "      <td>1</td>\n",
              "      <td>1</td>\n",
              "      <td>35.0</td>\n",
              "      <td>1</td>\n",
              "      <td>0</td>\n",
              "      <td>53.1000</td>\n",
              "      <td>0</td>\n",
              "      <td>0</td>\n",
              "      <td>1</td>\n",
              "    </tr>\n",
              "    <tr>\n",
              "      <th>4</th>\n",
              "      <td>0</td>\n",
              "      <td>3</td>\n",
              "      <td>0</td>\n",
              "      <td>35.0</td>\n",
              "      <td>0</td>\n",
              "      <td>0</td>\n",
              "      <td>8.0500</td>\n",
              "      <td>0</td>\n",
              "      <td>0</td>\n",
              "      <td>1</td>\n",
              "    </tr>\n",
              "  </tbody>\n",
              "</table>\n",
              "</div>"
            ],
            "text/plain": [
              "   Survived  Pclass  Sex   Age  SibSp  Parch     Fare  Embarked_C  Embarked_Q  \\\n",
              "0         0       3    0  22.0      1      0   7.2500           0           0   \n",
              "1         1       1    1  38.0      1      0  71.2833           1           0   \n",
              "2         1       3    1  26.0      0      0   7.9250           0           0   \n",
              "3         1       1    1  35.0      1      0  53.1000           0           0   \n",
              "4         0       3    0  35.0      0      0   8.0500           0           0   \n",
              "\n",
              "   Embarked_S  \n",
              "0           1  \n",
              "1           0  \n",
              "2           1  \n",
              "3           1  \n",
              "4           1  "
            ]
          },
          "execution_count": 26,
          "metadata": {},
          "output_type": "execute_result"
        }
      ],
      "source": [
        "df_train.head()"
      ]
    },
    {
      "cell_type": "code",
      "execution_count": 27,
      "metadata": {
        "id": "qdXAryHqz65q"
      },
      "outputs": [],
      "source": [
        "from sklearn.preprocessing import MinMaxScaler\n",
        "from sklearn.model_selection import train_test_split\n",
        "\n",
        "x = df_train.drop('Survived', axis=1)\n",
        "y = df_train['Survived']\n",
        "\n",
        "x_train, x_test, y_train, y_test = train_test_split(x,y, test_size=0.1)"
      ]
    },
    {
      "cell_type": "markdown",
      "metadata": {
        "id": "qk4mSlANNFQZ"
      },
      "source": [
        "This code imports two modules from the Scikit-learn library: MinMaxScaler and train_test_split.\n",
        "\n",
        "The MinMaxScaler class is used for feature scaling, which means that it transforms the features to be within a specific range. This is important because some machine learning algorithms can be sensitive to the scale of the input features, and scaling them can improve the performance of the model.\n",
        "\n",
        "The train_test_split function is used for splitting a dataset into two separate sets: a training set and a testing set. This is important in machine learning because it allows us to train a model on a portion of the data and then test its performance on data that it has not seen before.\n",
        "\n",
        "The code then creates the variables \"x\" and \"y\". \"x\" contains all the features from the \"df_train\" dataframe except the \"Survived\" column, and \"y\" contains only the \"Survived\" column.\n",
        "\n",
        "The next line of code uses the train_test_split function to split the data into training and testing sets. It assigns 90% of the data to the training set and 10% to the testing set. The training set will be used to train the model, while the testing set will be used to evaluate its performance.\n",
        "\n",
        "The resulting variables are \"x_train\", \"x_test\", \"y_train\", and \"y_test\", which contain the features and target variable for the training and testing sets, respectively.\n",
        "\n",
        "\n",
        "\n"
      ]
    },
    {
      "cell_type": "code",
      "execution_count": 28,
      "metadata": {
        "id": "KYZR4R19I9vc"
      },
      "outputs": [],
      "source": [
        "scaler = MinMaxScaler()\n",
        "x_train = scaler.fit_transform(x_train)\n",
        "x_test = scaler.transform(x_test)"
      ]
    },
    {
      "cell_type": "markdown",
      "metadata": {
        "id": "nu7eutn4PKsJ"
      },
      "source": [
        "This code block performs the Min-Max scaling operation used for normalizing data.\n",
        "\n",
        "The MinMaxScaler class rescales features to a given range, particularly between the minimum and maximum values of the data. For example, rescaling can be done to a range of 0-1.\n",
        "\n",
        "The fit_transform() method applies the Min-Max scaler to the data and rescales the data to a range of 0-1. The fit() method only performs the scaling operation on the data and does not return the rescaled data.\n",
        "\n",
        "In this code block, the fit_transform() method is called on the training data x_train and the results are assigned to x_train. Then, the same scaling is applied to the test data x_test and the results are assigned to x_test. This ensures that the data is scaled consistently between the training and test sets."
      ]
    },
    {
      "cell_type": "code",
      "execution_count": 29,
      "metadata": {
        "id": "bE04PJL3JeFL"
      },
      "outputs": [],
      "source": [
        "from sklearn.svm import SVC\n",
        "\n",
        "svm = SVC()\n",
        "svm.fit(x_train,y_train)\n",
        "\n",
        "predictions = svm.predict(x_test)"
      ]
    },
    {
      "cell_type": "markdown",
      "metadata": {
        "id": "MRLzLoOKR0Fm"
      },
      "source": [
        "This code block uses the Support Vector Machine (SVM) algorithm from the sklearn library to train a classification model and make predictions on test data.\n",
        "\n",
        "First, an SVM object is created from the SVC class and this object is fitted to the training data (x_train, y_train). The SVM creates a model that can perform classification on these training data.\n",
        "\n",
        "Next, this model is used to make predictions on the x_test data. The predictions are assigned to a variable called 'predictions'. The predictions are compared with the y_test values that determine the classes of the dataset, and the accuracy of the model is evaluated."
      ]
    },
    {
      "cell_type": "code",
      "execution_count": 30,
      "metadata": {
        "colab": {
          "base_uri": "https://localhost:8080/"
        },
        "id": "VreevNFmfisE",
        "outputId": "06e80fed-5b7a-4723-8d9e-fbdecaf0d42a"
      },
      "outputs": [
        {
          "name": "stdout",
          "output_type": "stream",
          "text": [
            "              precision    recall  f1-score   support\n",
            "\n",
            "           0       0.85      0.93      0.89        56\n",
            "           1       0.86      0.73      0.79        33\n",
            "\n",
            "    accuracy                           0.85        89\n",
            "   macro avg       0.85      0.83      0.84        89\n",
            "weighted avg       0.85      0.85      0.85        89\n",
            "\n",
            "[[52  4]\n",
            " [ 9 24]]\n"
          ]
        }
      ],
      "source": [
        "from sklearn.metrics import classification_report, confusion_matrix\n",
        "\n",
        "print(classification_report(y_test,predictions))\n",
        "print(confusion_matrix(y_test, predictions))"
      ]
    },
    {
      "cell_type": "markdown",
      "metadata": {
        "id": "3XXvF6EM5JBt"
      },
      "source": [
        "This code is used to evaluate the classification performance of the model.\n",
        "\n",
        "The 'classification_report' function returns a report containing different metrics used to measure the accuracy of the classification model. These metrics include measurements such as accuracy, precision, recall, and F1 score.\n",
        "\n",
        "The 'confusion_matrix' function, on the other hand, returns a matrix used to evaluate the performance of the classification model. This matrix includes the number of data points based on the actual class and predicted class values. This matrix can also calculate the number of correctly classified data.\n",
        "\n",
        "The above code is used to evaluate the performance of the trained SVM model on the test data. First, the 'classification_report' function is called with the 'y_test' and 'predictions' parameters, which returns a report containing different classification metrics to measure the accuracy of the model. Second, the 'confusion_matrix' function is called with the 'y_test' and 'predictions' parameters, which returns a matrix showing the classification performance on the test data based on actual and predicted class values."
      ]
    },
    {
      "cell_type": "markdown",
      "metadata": {
        "id": "nn-Siu255TUV"
      },
      "source": [
        "y_test contains the true answers for the test dataset. The trained model makes predictions using x_test data. These predictions are compared with the true answers (y_test) to evaluate the accuracy of the model. classification_report and confusion_matrix functions are used to analyze the differences between the true answers (y_test) and predictions and to evaluate the performance of the classification model."
      ]
    },
    {
      "cell_type": "code",
      "execution_count": 31,
      "metadata": {
        "colab": {
          "base_uri": "https://localhost:8080/"
        },
        "id": "7pfMK4N3Sxwq",
        "outputId": "f2233688-109c-41ae-ab90-d55ba961911f"
      },
      "outputs": [
        {
          "name": "stdout",
          "output_type": "stream",
          "text": [
            "Fitting 5 folds for each of 49 candidates, totalling 245 fits\n",
            "[CV] END .......................................C=0, gamma=1; total time=   0.0s\n",
            "[CV] END .......................................C=0, gamma=1; total time=   0.0s\n",
            "[CV] END .......................................C=0, gamma=1; total time=   0.0s\n",
            "[CV] END .......................................C=0, gamma=1; total time=   0.0s\n",
            "[CV] END .......................................C=0, gamma=1; total time=   0.0s\n",
            "[CV] END .....................................C=0, gamma=0.1; total time=   0.0s\n",
            "[CV] END .....................................C=0, gamma=0.1; total time=   0.0s\n",
            "[CV] END .....................................C=0, gamma=0.1; total time=   0.0s\n",
            "[CV] END .....................................C=0, gamma=0.1; total time=   0.0s\n",
            "[CV] END .....................................C=0, gamma=0.1; total time=   0.0s\n",
            "[CV] END ....................................C=0, gamma=0.01; total time=   0.0s\n",
            "[CV] END ....................................C=0, gamma=0.01; total time=   0.0s\n",
            "[CV] END ....................................C=0, gamma=0.01; total time=   0.0s\n",
            "[CV] END ....................................C=0, gamma=0.01; total time=   0.0s\n",
            "[CV] END ....................................C=0, gamma=0.01; total time=   0.0s\n",
            "[CV] END ...................................C=0, gamma=0.001; total time=   0.0s\n",
            "[CV] END ...................................C=0, gamma=0.001; total time=   0.0s\n",
            "[CV] END ...................................C=0, gamma=0.001; total time=   0.0s\n",
            "[CV] END ...................................C=0, gamma=0.001; total time=   0.0s\n",
            "[CV] END ...................................C=0, gamma=0.001; total time=   0.0s\n",
            "[CV] END ..................................C=0, gamma=0.0001; total time=   0.0s\n",
            "[CV] END ..................................C=0, gamma=0.0001; total time=   0.0s\n",
            "[CV] END ..................................C=0, gamma=0.0001; total time=   0.0s\n",
            "[CV] END ..................................C=0, gamma=0.0001; total time=   0.0s\n",
            "[CV] END ..................................C=0, gamma=0.0001; total time=   0.0s\n",
            "[CV] END ...................................C=0, gamma=1e-05; total time=   0.0s\n",
            "[CV] END ...................................C=0, gamma=1e-05; total time=   0.0s\n",
            "[CV] END ...................................C=0, gamma=1e-05; total time=   0.0s\n",
            "[CV] END ...................................C=0, gamma=1e-05; total time=   0.0s\n",
            "[CV] END ...................................C=0, gamma=1e-05; total time=   0.0s\n",
            "[CV] END ...................................C=0, gamma=1e-06; total time=   0.0s\n",
            "[CV] END ...................................C=0, gamma=1e-06; total time=   0.0s\n",
            "[CV] END ...................................C=0, gamma=1e-06; total time=   0.0s\n",
            "[CV] END ...................................C=0, gamma=1e-06; total time=   0.0s\n",
            "[CV] END ...................................C=0, gamma=1e-06; total time=   0.0s\n",
            "[CV] END .......................................C=5, gamma=1; total time=   0.0s\n",
            "[CV] END .......................................C=5, gamma=1; total time=   0.0s\n",
            "[CV] END .......................................C=5, gamma=1; total time=   0.0s\n",
            "[CV] END .......................................C=5, gamma=1; total time=   0.0s\n",
            "[CV] END .......................................C=5, gamma=1; total time=   0.0s\n",
            "[CV] END .....................................C=5, gamma=0.1; total time=   0.0s\n",
            "[CV] END .....................................C=5, gamma=0.1; total time=   0.0s\n",
            "[CV] END .....................................C=5, gamma=0.1; total time=   0.0s\n",
            "[CV] END .....................................C=5, gamma=0.1; total time=   0.0s\n",
            "[CV] END .....................................C=5, gamma=0.1; total time=   0.0s\n",
            "[CV] END ....................................C=5, gamma=0.01; total time=   0.0s\n",
            "[CV] END ....................................C=5, gamma=0.01; total time=   0.0s\n",
            "[CV] END ....................................C=5, gamma=0.01; total time=   0.0s\n",
            "[CV] END ....................................C=5, gamma=0.01; total time=   0.0s\n",
            "[CV] END ....................................C=5, gamma=0.01; total time=   0.0s\n",
            "[CV] END ...................................C=5, gamma=0.001; total time=   0.0s\n",
            "[CV] END ...................................C=5, gamma=0.001; total time=   0.0s\n",
            "[CV] END ...................................C=5, gamma=0.001; total time=   0.0s\n",
            "[CV] END ...................................C=5, gamma=0.001; total time=   0.0s\n",
            "[CV] END ...................................C=5, gamma=0.001; total time=   0.0s\n",
            "[CV] END ..................................C=5, gamma=0.0001; total time=   0.0s\n",
            "[CV] END ..................................C=5, gamma=0.0001; total time=   0.0s\n",
            "[CV] END ..................................C=5, gamma=0.0001; total time=   0.0s\n",
            "[CV] END ..................................C=5, gamma=0.0001; total time=   0.0s\n",
            "[CV] END ..................................C=5, gamma=0.0001; total time=   0.0s\n",
            "[CV] END ...................................C=5, gamma=1e-05; total time=   0.0s\n",
            "[CV] END ...................................C=5, gamma=1e-05; total time=   0.0s\n",
            "[CV] END ...................................C=5, gamma=1e-05; total time=   0.0s\n",
            "[CV] END ...................................C=5, gamma=1e-05; total time=   0.0s\n",
            "[CV] END ...................................C=5, gamma=1e-05; total time=   0.0s\n",
            "[CV] END ...................................C=5, gamma=1e-06; total time=   0.0s\n",
            "[CV] END ...................................C=5, gamma=1e-06; total time=   0.0s\n",
            "[CV] END ...................................C=5, gamma=1e-06; total time=   0.0s\n",
            "[CV] END ...................................C=5, gamma=1e-06; total time=   0.0s\n",
            "[CV] END ...................................C=5, gamma=1e-06; total time=   0.0s\n",
            "[CV] END .......................................C=1, gamma=1; total time=   0.0s\n",
            "[CV] END .......................................C=1, gamma=1; total time=   0.0s\n",
            "[CV] END .......................................C=1, gamma=1; total time=   0.0s\n",
            "[CV] END .......................................C=1, gamma=1; total time=   0.0s\n",
            "[CV] END .......................................C=1, gamma=1; total time=   0.0s\n",
            "[CV] END .....................................C=1, gamma=0.1; total time=   0.0s\n",
            "[CV] END .....................................C=1, gamma=0.1; total time=   0.0s\n",
            "[CV] END .....................................C=1, gamma=0.1; total time=   0.0s\n",
            "[CV] END .....................................C=1, gamma=0.1; total time=   0.0s\n",
            "[CV] END .....................................C=1, gamma=0.1; total time=   0.0s\n",
            "[CV] END ....................................C=1, gamma=0.01; total time=   0.0s\n",
            "[CV] END ....................................C=1, gamma=0.01; total time=   0.0s\n",
            "[CV] END ....................................C=1, gamma=0.01; total time=   0.0s\n",
            "[CV] END ....................................C=1, gamma=0.01; total time=   0.0s\n",
            "[CV] END ....................................C=1, gamma=0.01; total time=   0.0s\n",
            "[CV] END ...................................C=1, gamma=0.001; total time=   0.0s\n",
            "[CV] END ...................................C=1, gamma=0.001; total time=   0.0s\n",
            "[CV] END ...................................C=1, gamma=0.001; total time=   0.0s\n",
            "[CV] END ...................................C=1, gamma=0.001; total time=   0.0s\n",
            "[CV] END ...................................C=1, gamma=0.001; total time=   0.0s\n",
            "[CV] END ..................................C=1, gamma=0.0001; total time=   0.0s\n",
            "[CV] END ..................................C=1, gamma=0.0001; total time=   0.0s\n",
            "[CV] END ..................................C=1, gamma=0.0001; total time=   0.0s\n",
            "[CV] END ..................................C=1, gamma=0.0001; total time=   0.0s\n",
            "[CV] END ..................................C=1, gamma=0.0001; total time=   0.0s\n",
            "[CV] END ...................................C=1, gamma=1e-05; total time=   0.0s\n",
            "[CV] END ...................................C=1, gamma=1e-05; total time=   0.0s\n",
            "[CV] END ...................................C=1, gamma=1e-05; total time=   0.0s\n",
            "[CV] END ...................................C=1, gamma=1e-05; total time=   0.0s\n",
            "[CV] END ...................................C=1, gamma=1e-05; total time=   0.0s\n",
            "[CV] END ...................................C=1, gamma=1e-06; total time=   0.0s\n",
            "[CV] END ...................................C=1, gamma=1e-06; total time=   0.0s\n",
            "[CV] END ...................................C=1, gamma=1e-06; total time=   0.0s\n",
            "[CV] END ...................................C=1, gamma=1e-06; total time=   0.0s\n",
            "[CV] END ...................................C=1, gamma=1e-06; total time=   0.0s\n",
            "[CV] END ......................................C=10, gamma=1; total time=   0.0s\n",
            "[CV] END ......................................C=10, gamma=1; total time=   0.0s\n",
            "[CV] END ......................................C=10, gamma=1; total time=   0.0s\n",
            "[CV] END ......................................C=10, gamma=1; total time=   0.0s\n",
            "[CV] END ......................................C=10, gamma=1; total time=   0.0s\n",
            "[CV] END ....................................C=10, gamma=0.1; total time=   0.0s\n",
            "[CV] END ....................................C=10, gamma=0.1; total time=   0.0s\n",
            "[CV] END ....................................C=10, gamma=0.1; total time=   0.0s\n",
            "[CV] END ....................................C=10, gamma=0.1; total time=   0.0s\n",
            "[CV] END ....................................C=10, gamma=0.1; total time=   0.0s\n",
            "[CV] END ...................................C=10, gamma=0.01; total time=   0.0s\n",
            "[CV] END ...................................C=10, gamma=0.01; total time=   0.0s\n",
            "[CV] END ...................................C=10, gamma=0.01; total time=   0.0s\n",
            "[CV] END ...................................C=10, gamma=0.01; total time=   0.0s\n",
            "[CV] END ...................................C=10, gamma=0.01; total time=   0.0s\n",
            "[CV] END ..................................C=10, gamma=0.001; total time=   0.0s\n",
            "[CV] END ..................................C=10, gamma=0.001; total time=   0.0s\n",
            "[CV] END ..................................C=10, gamma=0.001; total time=   0.0s\n",
            "[CV] END ..................................C=10, gamma=0.001; total time=   0.0s\n",
            "[CV] END ..................................C=10, gamma=0.001; total time=   0.0s\n",
            "[CV] END .................................C=10, gamma=0.0001; total time=   0.0s\n",
            "[CV] END .................................C=10, gamma=0.0001; total time=   0.0s\n",
            "[CV] END .................................C=10, gamma=0.0001; total time=   0.0s\n",
            "[CV] END .................................C=10, gamma=0.0001; total time=   0.0s\n",
            "[CV] END .................................C=10, gamma=0.0001; total time=   0.0s\n",
            "[CV] END ..................................C=10, gamma=1e-05; total time=   0.0s\n",
            "[CV] END ..................................C=10, gamma=1e-05; total time=   0.0s\n",
            "[CV] END ..................................C=10, gamma=1e-05; total time=   0.0s\n",
            "[CV] END ..................................C=10, gamma=1e-05; total time=   0.0s\n",
            "[CV] END ..................................C=10, gamma=1e-05; total time=   0.0s\n",
            "[CV] END ..................................C=10, gamma=1e-06; total time=   0.0s\n",
            "[CV] END ..................................C=10, gamma=1e-06; total time=   0.0s\n",
            "[CV] END ..................................C=10, gamma=1e-06; total time=   0.0s\n",
            "[CV] END ..................................C=10, gamma=1e-06; total time=   0.0s\n",
            "[CV] END ..................................C=10, gamma=1e-06; total time=   0.0s\n",
            "[CV] END ......................................C=50, gamma=1; total time=   0.0s\n",
            "[CV] END ......................................C=50, gamma=1; total time=   0.0s\n",
            "[CV] END ......................................C=50, gamma=1; total time=   0.0s\n",
            "[CV] END ......................................C=50, gamma=1; total time=   0.0s\n",
            "[CV] END ......................................C=50, gamma=1; total time=   0.0s\n",
            "[CV] END ....................................C=50, gamma=0.1; total time=   0.0s\n",
            "[CV] END ....................................C=50, gamma=0.1; total time=   0.0s\n",
            "[CV] END ....................................C=50, gamma=0.1; total time=   0.0s\n",
            "[CV] END ....................................C=50, gamma=0.1; total time=   0.0s\n",
            "[CV] END ....................................C=50, gamma=0.1; total time=   0.0s\n",
            "[CV] END ...................................C=50, gamma=0.01; total time=   0.0s\n",
            "[CV] END ...................................C=50, gamma=0.01; total time=   0.0s\n",
            "[CV] END ...................................C=50, gamma=0.01; total time=   0.0s\n",
            "[CV] END ...................................C=50, gamma=0.01; total time=   0.0s\n",
            "[CV] END ...................................C=50, gamma=0.01; total time=   0.0s\n",
            "[CV] END ..................................C=50, gamma=0.001; total time=   0.0s\n",
            "[CV] END ..................................C=50, gamma=0.001; total time=   0.0s\n",
            "[CV] END ..................................C=50, gamma=0.001; total time=   0.0s\n",
            "[CV] END ..................................C=50, gamma=0.001; total time=   0.0s\n",
            "[CV] END ..................................C=50, gamma=0.001; total time=   0.0s\n",
            "[CV] END .................................C=50, gamma=0.0001; total time=   0.0s\n",
            "[CV] END .................................C=50, gamma=0.0001; total time=   0.0s\n",
            "[CV] END .................................C=50, gamma=0.0001; total time=   0.0s\n",
            "[CV] END .................................C=50, gamma=0.0001; total time=   0.0s\n",
            "[CV] END .................................C=50, gamma=0.0001; total time=   0.0s\n",
            "[CV] END ..................................C=50, gamma=1e-05; total time=   0.0s\n",
            "[CV] END ..................................C=50, gamma=1e-05; total time=   0.0s\n",
            "[CV] END ..................................C=50, gamma=1e-05; total time=   0.0s\n",
            "[CV] END ..................................C=50, gamma=1e-05; total time=   0.0s\n",
            "[CV] END ..................................C=50, gamma=1e-05; total time=   0.0s\n",
            "[CV] END ..................................C=50, gamma=1e-06; total time=   0.0s\n",
            "[CV] END ..................................C=50, gamma=1e-06; total time=   0.0s\n",
            "[CV] END ..................................C=50, gamma=1e-06; total time=   0.0s\n",
            "[CV] END ..................................C=50, gamma=1e-06; total time=   0.0s\n",
            "[CV] END ..................................C=50, gamma=1e-06; total time=   0.0s\n",
            "[CV] END .....................................C=100, gamma=1; total time=   0.0s\n",
            "[CV] END .....................................C=100, gamma=1; total time=   0.0s\n",
            "[CV] END .....................................C=100, gamma=1; total time=   0.0s\n",
            "[CV] END .....................................C=100, gamma=1; total time=   0.0s\n",
            "[CV] END .....................................C=100, gamma=1; total time=   0.0s\n",
            "[CV] END ...................................C=100, gamma=0.1; total time=   0.0s\n",
            "[CV] END ...................................C=100, gamma=0.1; total time=   0.0s\n",
            "[CV] END ...................................C=100, gamma=0.1; total time=   0.0s\n",
            "[CV] END ...................................C=100, gamma=0.1; total time=   0.0s\n",
            "[CV] END ...................................C=100, gamma=0.1; total time=   0.0s\n",
            "[CV] END ..................................C=100, gamma=0.01; total time=   0.0s\n",
            "[CV] END ..................................C=100, gamma=0.01; total time=   0.0s\n",
            "[CV] END ..................................C=100, gamma=0.01; total time=   0.0s\n",
            "[CV] END ..................................C=100, gamma=0.01; total time=   0.0s\n",
            "[CV] END ..................................C=100, gamma=0.01; total time=   0.0s\n",
            "[CV] END .................................C=100, gamma=0.001; total time=   0.0s\n",
            "[CV] END .................................C=100, gamma=0.001; total time=   0.0s\n",
            "[CV] END .................................C=100, gamma=0.001; total time=   0.0s\n",
            "[CV] END .................................C=100, gamma=0.001; total time=   0.0s\n",
            "[CV] END .................................C=100, gamma=0.001; total time=   0.0s\n",
            "[CV] END ................................C=100, gamma=0.0001; total time=   0.0s\n",
            "[CV] END ................................C=100, gamma=0.0001; total time=   0.0s\n",
            "[CV] END ................................C=100, gamma=0.0001; total time=   0.0s\n",
            "[CV] END ................................C=100, gamma=0.0001; total time=   0.0s\n",
            "[CV] END ................................C=100, gamma=0.0001; total time=   0.0s\n",
            "[CV] END .................................C=100, gamma=1e-05; total time=   0.0s\n",
            "[CV] END .................................C=100, gamma=1e-05; total time=   0.0s\n",
            "[CV] END .................................C=100, gamma=1e-05; total time=   0.0s\n",
            "[CV] END .................................C=100, gamma=1e-05; total time=   0.0s\n",
            "[CV] END .................................C=100, gamma=1e-05; total time=   0.0s\n",
            "[CV] END .................................C=100, gamma=1e-06; total time=   0.0s\n",
            "[CV] END .................................C=100, gamma=1e-06; total time=   0.0s\n",
            "[CV] END .................................C=100, gamma=1e-06; total time=   0.0s\n",
            "[CV] END .................................C=100, gamma=1e-06; total time=   0.0s\n",
            "[CV] END .................................C=100, gamma=1e-06; total time=   0.0s\n",
            "[CV] END ....................................C=1000, gamma=1; total time=   0.0s\n",
            "[CV] END ....................................C=1000, gamma=1; total time=   0.0s\n",
            "[CV] END ....................................C=1000, gamma=1; total time=   0.0s\n",
            "[CV] END ....................................C=1000, gamma=1; total time=   0.1s\n",
            "[CV] END ....................................C=1000, gamma=1; total time=   0.0s\n",
            "[CV] END ..................................C=1000, gamma=0.1; total time=   0.0s\n",
            "[CV] END ..................................C=1000, gamma=0.1; total time=   0.0s\n",
            "[CV] END ..................................C=1000, gamma=0.1; total time=   0.0s\n",
            "[CV] END ..................................C=1000, gamma=0.1; total time=   0.0s\n",
            "[CV] END ..................................C=1000, gamma=0.1; total time=   0.0s\n",
            "[CV] END .................................C=1000, gamma=0.01; total time=   0.0s\n",
            "[CV] END .................................C=1000, gamma=0.01; total time=   0.0s\n",
            "[CV] END .................................C=1000, gamma=0.01; total time=   0.0s\n",
            "[CV] END .................................C=1000, gamma=0.01; total time=   0.0s\n",
            "[CV] END .................................C=1000, gamma=0.01; total time=   0.0s\n",
            "[CV] END ................................C=1000, gamma=0.001; total time=   0.0s\n",
            "[CV] END ................................C=1000, gamma=0.001; total time=   0.0s\n",
            "[CV] END ................................C=1000, gamma=0.001; total time=   0.0s\n",
            "[CV] END ................................C=1000, gamma=0.001; total time=   0.0s\n",
            "[CV] END ................................C=1000, gamma=0.001; total time=   0.0s\n",
            "[CV] END ...............................C=1000, gamma=0.0001; total time=   0.0s\n",
            "[CV] END ...............................C=1000, gamma=0.0001; total time=   0.0s\n",
            "[CV] END ...............................C=1000, gamma=0.0001; total time=   0.0s\n",
            "[CV] END ...............................C=1000, gamma=0.0001; total time=   0.0s\n",
            "[CV] END ...............................C=1000, gamma=0.0001; total time=   0.0s\n",
            "[CV] END ................................C=1000, gamma=1e-05; total time=   0.0s\n",
            "[CV] END ................................C=1000, gamma=1e-05; total time=   0.0s\n",
            "[CV] END ................................C=1000, gamma=1e-05; total time=   0.0s\n",
            "[CV] END ................................C=1000, gamma=1e-05; total time=   0.0s\n",
            "[CV] END ................................C=1000, gamma=1e-05; total time=   0.0s\n",
            "[CV] END ................................C=1000, gamma=1e-06; total time=   0.0s\n",
            "[CV] END ................................C=1000, gamma=1e-06; total time=   0.0s\n",
            "[CV] END ................................C=1000, gamma=1e-06; total time=   0.0s\n",
            "[CV] END ................................C=1000, gamma=1e-06; total time=   0.0s\n",
            "[CV] END ................................C=1000, gamma=1e-06; total time=   0.0s\n"
          ]
        }
      ],
      "source": [
        "from sklearn.model_selection import GridSearchCV\n",
        "\n",
        "param_grid = {'C': [0,5,1,10,50,100,1000], 'gamma': [1,0.1,0.01,0.001,0.0001,0.00001,0.000001]}\n",
        "\n",
        "grid = GridSearchCV(SVC(),param_grid,refit = True,verbose= 2)\n",
        "grid.fit(x_train,y_train)\n",
        "grid_predictions = grid.predict(x_test)"
      ]
    },
    {
      "cell_type": "code",
      "execution_count": 32,
      "metadata": {
        "colab": {
          "base_uri": "https://localhost:8080/"
        },
        "id": "X0hoBbs27v01",
        "outputId": "f22af35a-543e-4fe3-d9da-643329eaaf46"
      },
      "outputs": [
        {
          "name": "stdout",
          "output_type": "stream",
          "text": [
            "              precision    recall  f1-score   support\n",
            "\n",
            "           0       0.89      0.88      0.88        56\n",
            "           1       0.79      0.82      0.81        33\n",
            "\n",
            "    accuracy                           0.85        89\n",
            "   macro avg       0.84      0.85      0.84        89\n",
            "weighted avg       0.86      0.85      0.85        89\n",
            "\n",
            "[[49  7]\n",
            " [ 6 27]]\n"
          ]
        }
      ],
      "source": [
        "print(classification_report(y_test,grid_predictions))\n",
        "print(confusion_matrix(y_test, grid_predictions))"
      ]
    },
    {
      "cell_type": "markdown",
      "metadata": {
        "id": "l4o72VK5-BDV"
      },
      "source": [
        "These results indicate a good accuracy rate for class 0 and that the model mostly correctly predicts class 0, but a lower accuracy rate for class 1 and that the model mislabels some class 1 examples.\n",
        "\n",
        "The \"accuracy\" rate is 85%, meaning the percentage of correct classifications by the model on this test set is 85%.\n",
        "\n",
        "The \"macro avg\" and \"weighted avg\" metrics provide the weighted averages of precision, recall, and F1 scores for each class. These metrics show the average accuracy weighted by each class's weight.\n",
        "\n",
        "The \"confusion matrix\" table shows the comparison of the true (0 and 1) and predicted classes. The table shows 47 correct predictions and 8 incorrect predictions for class 0 and 29 correct predictions and 5 incorrect predictions for class 1."
      ]
    },
    {
      "cell_type": "code",
      "execution_count": 33,
      "metadata": {
        "id": "3fu6PIqx8Bo0"
      },
      "outputs": [],
      "source": [
        "##In this output, 0 and 1 represent class labels. In this example, 0 represents the negative class while 1 represents the positive class. \n",
        "##The values in the top left corner of the confusion matrix (47) are called true negatives, while the values in the top right corner (8) are called false positives. \n",
        "##The values in the bottom left corner (5) are called false negatives, while the values in the bottom right corner (29) are called true positives."
      ]
    },
    {
      "cell_type": "markdown",
      "metadata": {
        "id": "13BML6GI-6ab"
      },
      "source": [
        "when ve compare Grid ,classification report and confusion matrix the compared values are quite similar to the previous ones, but the recall value for class 1 is slightly lower. Recall is calculated by dividing the true positive count by the sum of true positive count and false negative count, and for class 1 it was 0.85 instead of 0.82. This indicates that some examples in class 1 may have been misclassified. However, other metrics (precision, f1-score, accuracy) remained similar. Therefore, it can be said that the model's classification performance is quite good."
      ]
    },
    {
      "cell_type": "code",
      "execution_count": 34,
      "metadata": {
        "colab": {
          "base_uri": "https://localhost:8080/"
        },
        "id": "OvvziNWg-Tvd",
        "outputId": "77a8f64e-f4f3-4b46-be3b-e4fc038deb40"
      },
      "outputs": [
        {
          "name": "stdout",
          "output_type": "stream",
          "text": [
            "              precision    recall  f1-score   support\n",
            "\n",
            "           0       0.89      0.88      0.88        56\n",
            "           1       0.79      0.82      0.81        33\n",
            "\n",
            "    accuracy                           0.85        89\n",
            "   macro avg       0.84      0.85      0.84        89\n",
            "weighted avg       0.86      0.85      0.85        89\n",
            "\n",
            "[[49  7]\n",
            " [ 6 27]]\n"
          ]
        }
      ],
      "source": [
        "from sklearn.linear_model import LogisticRegression\n",
        "\n",
        "lr = LogisticRegression()\n",
        "\n",
        "lr.fit(x_train,y_train)\n",
        "lr_predictions = lr.predict(x_test)\n",
        "\n",
        "print(classification_report(y_test,lr_predictions))\n",
        "print(confusion_matrix(y_test, lr_predictions))"
      ]
    },
    {
      "cell_type": "code",
      "execution_count": 35,
      "metadata": {
        "id": "zZoJHvpTAnTY"
      },
      "outputs": [],
      "source": [
        "## In the Logistic Regression model, precision values are lower for class 1 but recall values are higher. F1-score values are also lower for both classes.\n",
        "\n",
        "## Both models have a similar accuracy value, but it can be said that the classification performance is more balanced in the SVC model."
      ]
    },
    {
      "cell_type": "markdown",
      "metadata": {
        "id": "GfC7P-VcBaUk"
      },
      "source": [
        "Comparing the results obtained with SVM using grid values, we can say that the results are better. The accuracy rate of the SVM model is 85%, with 76 correct predictions (47 + 29) and 13 incorrect predictions (8 + 5), while the accuracy rate of the Logistic Regression model is 81%, with 72 correct predictions (44 + 28) and 17 incorrect predictions (11 + 6). Additionally, the number of incorrect predictions in the confusion matrix of the SVM model is lower."
      ]
    },
    {
      "cell_type": "code",
      "execution_count": 36,
      "metadata": {
        "id": "jsQVz-6HBZx8"
      },
      "outputs": [],
      "source": [
        "from sklearn.neighbors import KNeighborsClassifier\n",
        "\n",
        "error_list = []\n",
        "\n",
        "for i in range(1,40):\n",
        "  knn = KNeighborsClassifier(n_neighbors = i)\n",
        "  knn.fit(x_train,y_train)\n",
        "  knn_predictions = knn.predict(x_test)\n",
        "  error_list.append(np.mean(knn_predictions != y_test))\n"
      ]
    },
    {
      "cell_type": "code",
      "execution_count": 37,
      "metadata": {
        "colab": {
          "base_uri": "https://localhost:8080/",
          "height": 447
        },
        "id": "r818HwRZBY4U",
        "outputId": "d1a4e9d1-ff19-4ece-d81f-ac033fab108f"
      },
      "outputs": [
        {
          "data": {
            "text/plain": [
              "[<matplotlib.lines.Line2D at 0x1c4651cd2d0>]"
            ]
          },
          "execution_count": 37,
          "metadata": {},
          "output_type": "execute_result"
        },
        {
          "data": {
            "image/png": "[encoded data removed]",
            "text/plain": [
              "<Figure size 640x480 with 1 Axes>"
            ]
          },
          "metadata": {},
          "output_type": "display_data"
        }
      ],
      "source": [
        "plt.plot(range(1,40),error_list)"
      ]
    },
    {
      "cell_type": "code",
      "execution_count": 38,
      "metadata": {
        "colab": {
          "base_uri": "https://localhost:8080/"
        },
        "id": "HFo-7dnvIRtI",
        "outputId": "e07a0116-ddcf-4132-da63-06c506c130ca"
      },
      "outputs": [
        {
          "name": "stdout",
          "output_type": "stream",
          "text": [
            "              precision    recall  f1-score   support\n",
            "\n",
            "           0       0.90      0.82      0.86        56\n",
            "           1       0.74      0.85      0.79        33\n",
            "\n",
            "    accuracy                           0.83        89\n",
            "   macro avg       0.82      0.83      0.82        89\n",
            "weighted avg       0.84      0.83      0.83        89\n",
            "\n",
            "[[46 10]\n",
            " [ 5 28]]\n"
          ]
        }
      ],
      "source": [
        "knn = KNeighborsClassifier(n_neighbors = 3)\n",
        "knn.fit(x_train,y_train)\n",
        "knn_predictions = knn.predict(x_test)\n",
        "\n",
        "print(classification_report(y_test,knn_predictions))\n",
        "print(confusion_matrix(y_test, knn_predictions))"
      ]
    },
    {
      "cell_type": "markdown",
      "metadata": {
        "id": "TRxCMQ3nLmgA"
      },
      "source": [
        "This code block creates a model using the K-NN (K-Nearest Neighbors) algorithm to perform classification. The model calculates error rates for different neighbor numbers and plots them as a graph. This graph can help determine the optimal number of neighbors.\n",
        "\n",
        "A blank list called error_list is created. Then, a loop is created using neighbor numbers ranging from 1 to 40. At each step, a K-NN model is created using the KNeighborsClassifier class. The model is fitted to the training data (x_train and y_train) and makes predictions on the test data (x_test). The prediction errors are then converted to an average error rate using the np.mean() function and added to the error_list list.\n",
        "\n",
        "Next, a graph is created using the plt.plot() function. This graph shows the neighbor number (x-axis) and the average error rates (y-axis).\n",
        "\n",
        "Finally, the model that shows the best performance is selected and used to make predictions on the test data. The performance of the model is evaluated using the classification_report() and confusion_matrix() functions."
      ]
    },
    {
      "cell_type": "code",
      "execution_count": 39,
      "metadata": {
        "id": "pPxGGApWIm_e"
      },
      "outputs": [],
      "source": [
        "from sklearn.tree import DecisionTreeClassifier\n",
        "from sklearn.ensemble import RandomForestClassifier\n",
        "\n",
        "dt = DecisionTreeClassifier()\n",
        "rfc = RandomForestClassifier(n_estimators=200)\n",
        "\n",
        "dt.fit(x_train, y_train)\n",
        "rfc.fit(x_train,y_train)\n",
        "\n",
        "dt_predictions = dt.predict(x_test)\n",
        "rfc_predictions = rfc.predict(x_test)\n"
      ]
    },
    {
      "cell_type": "markdown",
      "metadata": {
        "id": "9H83PHKmNS_2"
      },
      "source": [
        "In this code snippet, decision trees and random forest classifiers are created.\n",
        "\n",
        "The DecisionTreeClassifier class is used to create a decision tree model. The fit() function trains the model on the training data, x_train and y_train. Then, the predict() function makes predictions on the test data, x_test, and stores them in the dt_predictions variable.\n",
        "\n",
        "The RandomForestClassifier class is used to create random forest classifiers. The n_estimators parameter specifies the number of trees to be created. The fit() function trains the model on the training data, x_train and y_train. Then, the predict() function makes predictions on the test data, x_test, and stores them in the rfc_predictions variable."
      ]
    },
    {
      "cell_type": "code",
      "execution_count": 40,
      "metadata": {
        "colab": {
          "base_uri": "https://localhost:8080/"
        },
        "id": "-_HTHpugMrSj",
        "outputId": "3445c568-e378-446e-d635-c4771fcd401f"
      },
      "outputs": [
        {
          "name": "stdout",
          "output_type": "stream",
          "text": [
            "              precision    recall  f1-score   support\n",
            "\n",
            "           0       0.87      0.84      0.85        56\n",
            "           1       0.74      0.79      0.76        33\n",
            "\n",
            "    accuracy                           0.82        89\n",
            "   macro avg       0.81      0.81      0.81        89\n",
            "weighted avg       0.82      0.82      0.82        89\n",
            "\n",
            "[[47  9]\n",
            " [ 7 26]]\n"
          ]
        }
      ],
      "source": [
        "print(classification_report(y_test,dt_predictions))\n",
        "print(confusion_matrix(y_test, dt_predictions))"
      ]
    },
    {
      "cell_type": "markdown",
      "metadata": {
        "id": "Od2SBMLDNprJ"
      },
      "source": [
        "We measured the classification performance of the decision tree model using the classification_report and confusion_matrix functions."
      ]
    },
    {
      "cell_type": "code",
      "execution_count": 41,
      "metadata": {
        "colab": {
          "base_uri": "https://localhost:8080/"
        },
        "id": "FKCkC9UIMxjV",
        "outputId": "2984c145-a9e8-4932-c41d-3e9e4c1bca23"
      },
      "outputs": [
        {
          "name": "stdout",
          "output_type": "stream",
          "text": [
            "              precision    recall  f1-score   support\n",
            "\n",
            "           0       0.90      0.84      0.87        56\n",
            "           1       0.76      0.85      0.80        33\n",
            "\n",
            "    accuracy                           0.84        89\n",
            "   macro avg       0.83      0.84      0.84        89\n",
            "weighted avg       0.85      0.84      0.84        89\n",
            "\n",
            "[[47  9]\n",
            " [ 5 28]]\n"
          ]
        }
      ],
      "source": [
        "print(classification_report(y_test,rfc_predictions))\n",
        "print(confusion_matrix(y_test, rfc_predictions))"
      ]
    },
    {
      "cell_type": "markdown",
      "metadata": {
        "id": "s23cRvwDNroS"
      },
      "source": [
        "We measured the classification performance of the random forest model using the classification_report and confusion_matrix functions."
      ]
    },
    {
      "cell_type": "markdown",
      "metadata": {
        "id": "3obDSB2ZOq-N"
      },
      "source": [
        "The results obtained for two different classification algorithms, Decision Tree and Random Forest, are compared.\n",
        "\n",
        "Looking at the results obtained for the Decision Tree classifier, the precision and recall values for class 0 are found to be 0.85 and 0.85, respectively, while the precision and recall values for class 1 are found to be 0.76. These results indicate that class 1 predictions have slightly lower accuracy. Additionally, 8 false positive and 8 false negative predictions were made.\n",
        "\n",
        "Looking at the results obtained for the Random Forest classifier, the precision and recall values for class 0 are found to be 0.87 and 0.84, respectively, while the precision and recall values for class 1 are found to be 0.75. These results indicate that the Random Forest algorithm performs slightly better compared to the Decision Tree algorithm. Additionally, 9 false positive and 7 false negative predictions were made.\n",
        "\n",
        "Both classifiers achieved a similar accuracy value of approximately 0.82. However, the Random Forest classifier achieved higher precision and recall values for both classes."
      ]
    },
    {
      "cell_type": "code",
      "execution_count": 42,
      "metadata": {
        "id": "rNGIrojMRekG"
      },
      "outputs": [],
      "source": [
        "#Done."
      ]
    }
  ],
  "metadata": {
    "colab": {
      "provenance": []
    },
    "kernelspec": {
      "display_name": "Python 3",
      "name": "python3"
    },
    "language_info": {
      "codemirror_mode": {
        "name": "ipython",
        "version": 3
      },
      "file_extension": ".py",
      "mimetype": "text/x-python",
      "name": "python",
      "nbconvert_exporter": "python",
      "pygments_lexer": "ipython3",
      "version": "3.10.10"
    }
  },
  "nbformat": 4,
  "nbformat_minor": 0
}
